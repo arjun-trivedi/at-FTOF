{
 "metadata": {
  "name": ""
 },
 "nbformat": 3,
 "nbformat_minor": 0,
 "worksheets": [
  {
   "cells": [
    {
     "cell_type": "code",
     "collapsed": false,
     "input": [
      "ROOT.gStyle.SetOptStat(\"nemMrR\")\n",
      "ROOT.gStyle.SetOptFit(1111)\n",
      "d=np.random.normal(0,1,50)\n",
      "#chsq fit\n",
      "c=ROOT.TCanvas()\n",
      "c.Divide(2,4)\n",
      "c.cd(1)\n",
      "h0=Hist(100,-10,10,name=\"h_chisq-fit\")\n",
      "h0.fill_array(d)\n",
      "h0.Fit(\"gaus\")\n",
      "h0.Draw()\n",
      "f=h0.GetFunction(\"gaus\")\n",
      "c.cd(2)\n",
      "h1=Hist(100,-10,10,name=\"h_MLE-fit\")\n",
      "h1.fill_array(d)\n",
      "h1.Fit(\"gaus\",\"L\")\n",
      "h1.Draw()\n",
      "c.cd(3)\n",
      "h2=Hist(100,-10,10,name=\"h_chisq-fit-WW\")\n",
      "h2.fill_array(d)\n",
      "h2.Fit(\"gaus\",\"WW\")\n",
      "h2.Draw()\n",
      "f=h0.GetFunction(\"gaus\")\n",
      "c.cd(4)\n",
      "h3=Hist(100,-10,10,name=\"h_MLE-fit-WW\")\n",
      "h3.fill_array(d)\n",
      "h3.Fit(\"gaus\",\"WWL\")\n",
      "h3.Draw()\n",
      "# c.cd(5)\n",
      "# h4=Hist(100,-10,10,name=\"h_chisq-fit-errs0\")\n",
      "# h4.fill_array(d)\n",
      "# for i in range(h4.GetNbinsX()):\n",
      "#     h4.SetBinError(i+1,0.00001)\n",
      "# h4.Fit(\"gaus\")\n",
      "# h4.Draw()\n",
      "# f=h0.GetFunction(\"gaus\")\n",
      "# c.cd(6)\n",
      "# h5=Hist(100,-10,10,name=\"h_MLE-fit-errs0\")\n",
      "# h5.fill_array(d)\n",
      "# for i in range(h5.GetNbinsX()):\n",
      "#     h5.SetBinError(i+1,0.00001)\n",
      "# h5.Fit(\"gaus\",\"L\")\n",
      "# h5.Draw()\n",
      "c.cd(5)\n",
      "h4=Hist(100,-10,10,name=\"h_chisq-fit-W\")\n",
      "h4.fill_array(d)\n",
      "h4.Fit(\"gaus\",\"W\")\n",
      "h4.Draw()\n",
      "f=h0.GetFunction(\"gaus\")\n",
      "c.cd(6)\n",
      "# h5=Hist(100,-10,10,name=\"h_MLE-fit-W\")\n",
      "# h5.Fit(\"gaus\",\"WL\")\n",
      "# h5.Draw()\n",
      "c.cd(7)\n",
      "h6=Hist(100,-10,10,name=\"h_chisq-fit-unfillbinsSetTo0\")\n",
      "h6.fill_array(d)\n",
      "for i in range(h6.GetNbinsX()):\n",
      "    if h6.GetBinContent(i+1) == 0:\n",
      "        h6.SetBinContent(i+1,0)\n",
      "h6.Fit(\"gaus\")\n",
      "h6.Draw()\n",
      "f=h0.GetFunction(\"gaus\")\n",
      "c.cd(8)\n",
      "h7=Hist(100,-10,10,name=\"h_MLE-fit-unfillbinsSetTo0\")\n",
      "h7.fill_array(d)\n",
      "for i in range(h7.GetNbinsX()):\n",
      "    if h7.GetBinContent(i+1) == 0:\n",
      "        h7.SetBinContent(i+1,0)\n",
      "h7.Fit(\"gaus\",\"L\")\n",
      "h7.Draw()"
     ],
     "language": "python",
     "metadata": {},
     "outputs": [
      {
       "output_type": "stream",
       "stream": "stderr",
       "text": [
        "INFO:rootpy.logger] | No default log handler configured. See `logging` module |\n"
       ]
      },
      {
       "output_type": "stream",
       "stream": "stderr",
       "text": [
        "INFO:rootpy.logger] \\    To suppress: 'rootpy.log.basic_config_colorized()'   /\n"
       ]
      },
      {
       "output_type": "stream",
       "stream": "stderr",
       "text": [
        "WARNING:ROOT.TROOT.Append] Replacing existing TH1: h_chisq-fit (Potential memory leak).\n"
       ]
      },
      {
       "output_type": "stream",
       "stream": "stderr",
       "text": [
        "WARNING:ROOT.TROOT.Append] Replacing existing TH1: h_MLE-fit (Potential memory leak).\n"
       ]
      },
      {
       "output_type": "stream",
       "stream": "stderr",
       "text": [
        "WARNING:ROOT.TROOT.Append] Replacing existing TH1: h_chisq-fit-WW (Potential memory leak).\n"
       ]
      },
      {
       "output_type": "stream",
       "stream": "stderr",
       "text": [
        "WARNING:ROOT.TROOT.Append] Replacing existing TH1: h_MLE-fit-WW (Potential memory leak).\n"
       ]
      },
      {
       "output_type": "stream",
       "stream": "stderr",
       "text": [
        "WARNING:ROOT.TROOT.Append] Replacing existing TH1: h_chisq-fit-W (Potential memory leak).\n"
       ]
      },
      {
       "output_type": "stream",
       "stream": "stderr",
       "text": [
        "WARNING:ROOT.TROOT.Append] Replacing existing TH1: h_chisq-fit-unfillbinsSetTo0 (Potential memory leak).\n"
       ]
      },
      {
       "output_type": "stream",
       "stream": "stderr",
       "text": [
        "WARNING:ROOT.TROOT.Append] Replacing existing TH1: h_MLE-fit-unfillbinsSetTo0 (Potential memory leak).\n"
       ]
      }
     ],
     "prompt_number": 2
    },
    {
     "cell_type": "code",
     "collapsed": false,
     "input": [
      "ht=Hist(100,-10,10,name=\"ht\")\n",
      "ct=ROOT.TCanvas(\"ct\",\"ct\")\n",
      "ht.Fill(-10,100)\n",
      "ht.Fill(-10,100)\n",
      "# for i in range(100):\n",
      "#     ht.Fill(-10)\n",
      "ht.Draw()\n",
      "print \"Before Sumw2():\",ht.GetBinContent(1),ht.GetBinError(1)\n",
      "ht.Sumw2()\n",
      "print \"After Sumw2():\",ht.GetBinContent(1),ht.GetBinError(1)"
     ],
     "language": "python",
     "metadata": {},
     "outputs": [
      {
       "output_type": "stream",
       "stream": "stdout",
       "text": [
        "Before Sumw2(): 200.0 141.421356237\n",
        "After Sumw2(): 200.0 141.421356237\n"
       ]
      }
     ],
     "prompt_number": 1
    },
    {
     "cell_type": "code",
     "collapsed": false,
     "input": [
      "ht.GetBinContent(20),ht.GetBinError(20)\n",
      "ht.Fill(ht.GetBinLowEdge(20),0)\n",
      "ht.GetBinContent(20),ht.GetBinError(20)"
     ],
     "language": "python",
     "metadata": {},
     "outputs": [
      {
       "metadata": {},
       "output_type": "pyout",
       "prompt_number": 2,
       "text": [
        "(0.0, 0.0)"
       ]
      }
     ],
     "prompt_number": 2
    },
    {
     "cell_type": "code",
     "collapsed": false,
     "input": [],
     "language": "python",
     "metadata": {},
     "outputs": []
    }
   ],
   "metadata": {}
  }
 ]
}