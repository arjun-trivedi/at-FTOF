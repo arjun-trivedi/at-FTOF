{
 "metadata": {
  "name": ""
 },
 "nbformat": 3,
 "nbformat_minor": 0,
 "worksheets": [
  {
   "cells": [
    {
     "cell_type": "code",
     "collapsed": false,
     "input": [
      "datadir=os.path.join(os.environ['FTOF_DATADIR'],\"analyzed\",\"stat_err_ana\")\n",
      "\n",
      "def MyFn(s):\n",
      "    #pos=s.find(\"July\")\n",
      "    if s.find(\"July\")>=0:\n",
      "        pos=s.find(\"July\")\n",
      "        date= s[pos+5:pos+7]\n",
      "    elif s.find(\"August\")>=0:\n",
      "        pos=s.find(\"August\")\n",
      "        date= s[pos+7:pos+9]\n",
      "    return int(date)\n",
      "#! Get all 40dr-2dc- root files\n",
      "fnl_Jul={}\n",
      "#! First get all July files\n",
      "for mthd in ['MLE','CSQ']:\n",
      "    path=\"%s/40-day-run-2-day-cycles/%s\"%(datadir,mthd)\n",
      "    fnl_Jul[mthd]=[ f for f in os.listdir(path) if ( os.path.isfile(os.path.join(path,f)) and  \n",
      "                                                os.path.join(path,f).find(\"July\")>=0 and \n",
      "                                                os.path.join(path,f).find(\"July-12-13\")<0)]\n",
      "    fnl_Jul[mthd]=sorted(fnl_Jul[mthd],key=MyFn)\n",
      "#! Now get August files\n",
      "fnl_Aug={}\n",
      "for mthd in ['MLE','CSQ']:\n",
      "    path=\"%s/40-day-run-2-day-cycles/%s\"%(datadir,mthd)\n",
      "    fnl_Aug[mthd]=[ f for f in os.listdir(path) if ( os.path.isfile(os.path.join(path,f)) and  \n",
      "                                                os.path.join(path,f).find(\"August\")>=0 )]\n",
      "    fnl_Aug[mthd]=sorted(fnl_Aug[mthd],key=MyFn)\n",
      "#! Now put the two dicts together\n",
      "fnl=dict(fnl_Jul)\n",
      "fnl['MLE']+=fnl_Aug['MLE']\n",
      "fnl['CSQ']+=fnl_Aug['CSQ']\n",
      "#print fnl\n",
      "\n",
      "#! Now open the ROOT files\n",
      "fl={}\n",
      "for mthd in ['MLE','CSQ']:\n",
      "    path=\"%s/40-day-run-2-day-cycles/%s\"%(datadir,mthd)\n",
      "    fl[mthd] = [ ROOT.TFile(\"%s/%s\"%(path,fn)) for fn in fnl[mthd] ]\n",
      "\n",
      "#! Now get the combined 40dr\n",
      "f_cmb={}\n",
      "for mthd in ['MLE','CSQ']:\n",
      "    path=\"%s/40-day-run/%s\"%(datadir,mthd)\n",
      "    f_cmb[mthd]=ROOT.TFile(\"%s/%s\"%(path,\"40-day-run_no-Jul-12-13_1st-article_321654.root\"))\n",
      "        \n",
      "\n",
      "\n",
      "#! Prepare run_namel\n",
      "run_namel={}\n",
      "for mthd in ['MLE','CSQ']: \n",
      "    run_namel[mthd]=[]\n",
      "    for i,f in enumerate(fl[mthd]):\n",
      "        name=f.GetName()[0:f.GetName().find(\"-cycle1\")]\n",
      "        if name.find(\"July\")>=0:\n",
      "            run_namel[mthd].append(name[name.find(\"July\"):])\n",
      "        elif name.find(\"August\")>=0:\n",
      "            run_namel[mthd].append(name[name.find(\"August\"):])\n",
      "\n",
      "run_name_cmb={}\n",
      "for mthd in ['MLE','CSQ']: \n",
      "    run_name_cmb[mthd]=\"combined\""
     ],
     "language": "python",
     "metadata": {},
     "outputs": [],
     "prompt_number": 1
    },
    {
     "cell_type": "code",
     "collapsed": false,
     "input": [
      "\"\"\"\n",
      "Demonstrate systematic differences between CSQ-WW and CSQ fit for T histogram\"\n",
      "\"\"\"\n",
      "import rootnotes\n",
      "print run_namel['MLE'][5]\n",
      "print run_namel['CSQ'][5]\n",
      "hMLE=fl['MLE'][0].Get(\"fullbar_tw/resol_1_2_3_cont\")\n",
      "hCSQ=fl['CSQ'][0].Get(\"fullbar_tw/resol_1_2_3_cont\")\n",
      "\n",
      "hMLE.SetMarkerStyle(ROOT.gROOT.ProcessLine(\"kFullTriangleUp\"))\n",
      "hMLE.SetMarkerColor(ROOT.gROOT.ProcessLine(\"kRed\"))\n",
      "hMLE.SetLineColor(ROOT.gROOT.ProcessLine(\"kRed\"))\n",
      "\n",
      "hCSQ.SetMarkerStyle(ROOT.gROOT.ProcessLine(\"kFullTriangleDown\"))\n",
      "hCSQ.SetMarkerColor(ROOT.gROOT.ProcessLine(\"kBlue\"))\n",
      "hCSQ.SetLineColor(ROOT.gROOT.ProcessLine(\"kBlue\"))\n",
      "\n",
      "#ROOT.gStyle.SetOptStat(0)\n",
      "c=rootnotes.canvas(size=(800,400))\n",
      "hMLE.SetStats(0)\n",
      "hMLE.Draw(\"\")\n",
      "hCSQ.SetStats(0)\n",
      "hCSQ.Draw(\"same\")\n",
      "c"
     ],
     "language": "python",
     "metadata": {},
     "outputs": [
      {
       "output_type": "stream",
       "stream": "stderr",
       "text": [
        "INFO:ROOT.TCanvas.Print] png file /tmp/tmp2VK4UC.png has been created\n"
       ]
      },
      {
       "output_type": "stream",
       "stream": "stdout",
       "text": [
        "July-14-15-2014\n",
        "July-14-15-2014\n"
       ]
      },
      {
       "metadata": {},
       "output_type": "pyout",
       "png": "[encoded data removed]",
       "prompt_number": 5,
       "text": [
        "<ROOT.TCanvas object (\"icanvas\") at 0x53acb40>"
       ]
      }
     ],
     "prompt_number": 5
    },
    {
     "cell_type": "code",
     "collapsed": false,
     "input": [],
     "language": "python",
     "metadata": {},
     "outputs": []
    }
   ],
   "metadata": {}
  }
 ]
}