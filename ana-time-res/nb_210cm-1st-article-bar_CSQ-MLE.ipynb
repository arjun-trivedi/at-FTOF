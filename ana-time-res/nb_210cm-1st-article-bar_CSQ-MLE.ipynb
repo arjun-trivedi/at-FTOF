{
 "metadata": {
  "name": ""
 },
 "nbformat": 3,
 "nbformat_minor": 0,
 "worksheets": [
  {
   "cells": [
    {
     "cell_type": "code",
     "collapsed": false,
     "input": [
      "import rootnotes\n",
      "datadir=os.path.join(os.environ['FTOF_DATADIR'],\"analyzed\",\"stat_err_ana\")\n",
      "\n",
      "fnl=['June-18-2014-cycle1-June-19-2014-cycle2-1st-article.root']#,\n",
      "     #'June-28-2012-cycle1-June-29-2012-cycle2-331cm_123456.root',\n",
      "     #'August-30-2012-cycle1-cycle-2-375cm_123456.root']\n",
      "     #'June-22-2012-cycle1-June-22-2012-cycle2-395cm_123456.root']\n",
      "fl={}\n",
      "for mthd in ['MLE','CSQ']:\n",
      "    path=\"%s/%s\"%(datadir,mthd)\n",
      "    fl[mthd]=[ ROOT.TFile(\"%s/%s\"%(path,fn)) for fn in fnl ]\n",
      "\n",
      "#! From fl, obtain h_avg_rsltnl and run_namel\n",
      "h_avg_rsltnl={}\n",
      "run_namel={}\n",
      "cold={'MLE':1,'CSQ':2}\n",
      "for mthd in ['MLE','CSQ']: \n",
      "    run_namel[mthd]=[]\n",
      "    h_avg_rsltnl[mthd]=[]\n",
      "    for i,f in enumerate(fl[mthd]):\n",
      "        pos=f.GetName().find(\"cm\")\n",
      "        name=f.GetName()[pos-3:pos]\n",
      "        run_namel[mthd].append(name)\n",
      "        print f.GetName()\n",
      "        h=f.Get(\"fullbar_tw/avrg_resol_cont\")\n",
      "        h.SetTitle(\"%s:%s\"%(h.GetTitle(),mthd))\n",
      "        h.SetMarkerColor(cold[mthd])#ROOT.gROOT.ProcessLine\n",
      "        h.SetLineColor(cold[mthd])\n",
      "        h.SetStats(0)\n",
      "        h_avg_rsltnl[mthd].append(h)\n",
      "for mthd in ['MLE','CSQ']:\n",
      "    for i,h in enumerate(h_avg_rsltnl[mthd]):\n",
      "        print h.GetTitle()\n",
      "        print run_namel[mthd][i]\n",
      "\n",
      "#! Draw histograms\n",
      "ROOT.gStyle.SetOptStat(0)\n",
      "#ROOT.gStyle.SetErrorX(0.001)\n",
      "c=rootnotes.canvas(size=(1000,400))\n",
      "c.Divide(2,1)\n",
      "l=ROOT.TLegend(0.1,0.5,0.9,0.9)\n",
      "for mthd in ['MLE','CSQ']:\n",
      "    c.cd(1)\n",
      "    for i,h in enumerate(h_avg_rsltnl[mthd]):\n",
      "        if mthd=='MLE' and i==0:\n",
      "            h.SetMinimum(55)\n",
      "#             h.SetMaximum(100)\n",
      "            h.Draw()\n",
      "        else:\n",
      "            h.Draw(\"same\")\n",
      "        #l.AddEntry(h,\"%s_%s\"%(run_namel[mthd][i],mthd))\n",
      "        l.AddEntry(h,\"%s_%s\"%(\"210cm-1st-article\",mthd))\n",
      "c.cd(2)\n",
      "l.SetTextSize(0.05)\n",
      "l.Draw()\n",
      "c"
     ],
     "language": "python",
     "metadata": {},
     "outputs": [
      {
       "output_type": "stream",
       "stream": "stderr",
       "text": [
        "INFO:rootpy.logger] | No default log handler configured. See `logging` module |\n"
       ]
      },
      {
       "output_type": "stream",
       "stream": "stderr",
       "text": [
        "INFO:rootpy.logger] \\    To suppress: 'rootpy.log.basic_config_colorized()'   /\n"
       ]
      },
      {
       "output_type": "stream",
       "stream": "stderr",
       "text": [
        "INFO:ROOT.TCanvas.Print] png file /tmp/tmpFe1hMY.png has been created\n"
       ]
      },
      {
       "output_type": "stream",
       "stream": "stdout",
       "text": [
        "/data/trivedia/FTOF/analyzed/stat_err_ana/MLE/June-18-2014-cycle1-June-19-2014-cycle2-1st-article.root\n",
        "/data/trivedia/FTOF/analyzed/stat_err_ana/CSQ/June-18-2014-cycle1-June-19-2014-cycle2-1st-article.root\n",
        "avrg_resol_cont:MLE\n",
        "roo\n",
        "avrg_resol_cont:CSQ\n",
        "roo\n"
       ]
      },
      {
       "metadata": {},
       "output_type": "pyout",
       "png": "[encoded data removed]",
       "prompt_number": 1,
       "text": [
        "<ROOT.TCanvas object (\"icanvas\") at 0x5842bf0>"
       ]
      }
     ],
     "prompt_number": 1
    },
    {
     "cell_type": "code",
     "collapsed": false,
     "input": [],
     "language": "python",
     "metadata": {},
     "outputs": []
    }
   ],
   "metadata": {}
  }
 ]
}