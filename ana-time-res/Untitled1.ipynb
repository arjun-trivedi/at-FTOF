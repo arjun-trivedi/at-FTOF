{
 "metadata": {
  "name": ""
 },
 "nbformat": 3,
 "nbformat_minor": 0,
 "worksheets": [
  {
   "cells": [
    {
     "cell_type": "code",
     "collapsed": false,
     "input": [
      "import re\n",
      "re.sub(\"[^0-9]\", \"\", \"sdkjh987978asd098as0980a98sd\")\n",
      "r=\"test_123456_auto.root\"\n",
      "if re.search(\"123456.+root\",r):\n",
      "    print \"found\"\n",
      "\n"
     ],
     "language": "python",
     "metadata": {},
     "outputs": [
      {
       "output_type": "stream",
       "stream": "stdout",
       "text": [
        "found\n"
       ]
      }
     ],
     "prompt_number": 14
    },
    {
     "cell_type": "code",
     "collapsed": false,
     "input": [
      "t={1:2,2:100}\n",
      "print t\n",
      "d=[i for i in t.keys()]\n",
      "print d\n",
      "e=[i for i in t.values()]\n",
      "print e"
     ],
     "language": "python",
     "metadata": {},
     "outputs": [
      {
       "output_type": "stream",
       "stream": "stdout",
       "text": [
        "{1: 2, 2: 100}\n",
        "[1, 2]\n",
        "[2, 100]\n"
       ]
      }
     ],
     "prompt_number": 37
    },
    {
     "cell_type": "code",
     "collapsed": false,
     "input": [
      "sqrt(2)"
     ],
     "language": "python",
     "metadata": {},
     "outputs": [
      {
       "metadata": {},
       "output_type": "pyout",
       "prompt_number": 1,
       "text": [
        "1.4142135623730951"
       ]
      }
     ],
     "prompt_number": 1
    },
    {
     "cell_type": "code",
     "collapsed": false,
     "input": [
      "def MyFn(s):\n",
      "    pos=s.find(\"cm\")\n",
      "    length=s[pos-3:pos]\n",
      "    if length==\"\":\n",
      "        length=s[pos-2:pos]\n",
      "    print \"l=\",length\n",
      "    length=re.sub(\"[^0-9]\", \"\", length)\n",
      "    return int(length)"
     ],
     "language": "python",
     "metadata": {},
     "outputs": [],
     "prompt_number": 68
    },
    {
     "cell_type": "code",
     "collapsed": false,
     "input": [
      "from __future__ import division\n",
      "t={1:23,2:10,3:100,4:12}\n",
      "d=[i/10 for i in t.values()]\n",
      "print t\n",
      "print d"
     ],
     "language": "python",
     "metadata": {},
     "outputs": [
      {
       "output_type": "stream",
       "stream": "stdout",
       "text": [
        "{1: 23, 2: 10, 3: 100, 4: 12}\n",
        "[2.3, 1.0, 10.0, 1.2]\n"
       ]
      }
     ],
     "prompt_number": 43
    },
    {
     "cell_type": "code",
     "collapsed": false,
     "input": [
      "ax=plt.subplot(111)\n",
      "x=[3,2,1]\n",
      "y=[30,20,10]\n",
      "ax.scatter(x,y)\n",
      "sort(x)\n",
      "ax.set_xticks(sort(x))\n",
      "ax.set_xticklabels(sort(x),rotation='vertical')\n",
      "ax.grid(linewidth=4)\n",
      "ax.set_xlim(min(x)-10,max(x)+10)\n",
      "\n",
      "yticks=range(10,40,2)\n",
      "ax.set_yticks(yticks)\n",
      "ax.set_yticklabels(yticks,fontsize=20)"
     ],
     "language": "python",
     "metadata": {},
     "outputs": [
      {
       "metadata": {},
       "output_type": "pyout",
       "prompt_number": 72,
       "text": [
        "[<matplotlib.text.Text at 0x74f2b90>,\n",
        " <matplotlib.text.Text at 0x750d910>,\n",
        " <matplotlib.text.Text at 0x7be7f90>,\n",
        " <matplotlib.text.Text at 0x7bec650>,\n",
        " <matplotlib.text.Text at 0x7beccd0>,\n",
        " <matplotlib.text.Text at 0x7bed390>,\n",
        " <matplotlib.text.Text at 0x7bf90d0>,\n",
        " <matplotlib.text.Text at 0x7bf9750>,\n",
        " <matplotlib.text.Text at 0x7bf9e10>,\n",
        " <matplotlib.text.Text at 0x7bfb510>,\n",
        " <matplotlib.text.Text at 0x7bfbbd0>,\n",
        " <matplotlib.text.Text at 0x7bff2d0>,\n",
        " <matplotlib.text.Text at 0x7bff990>,\n",
        " <matplotlib.text.Text at 0x7c00090>,\n",
        " <matplotlib.text.Text at 0x7c00750>]"
       ]
      },
      {
       "metadata": {},
       "output_type": "display_data",
       "png": "[encoded data removed]",
       "text": [
        "<matplotlib.figure.Figure at 0x730b890>"
       ]
      }
     ],
     "prompt_number": 72
    },
    {
     "cell_type": "code",
     "collapsed": false,
     "input": [
      "ft=open(\"/home/trivedia/Downloads/ftof_official/185/gary_ana/means.dat\").readlines()\n",
      "print ft[0]"
     ],
     "language": "python",
     "metadata": {},
     "outputs": [
      {
       "output_type": "stream",
       "stream": "stdout",
       "text": [
        "47.9489\n",
        "\n"
       ]
      }
     ],
     "prompt_number": 27
    },
    {
     "cell_type": "code",
     "collapsed": false,
     "input": [
      "f=open(\"/home/trivedia/Downloads/ftof_official/185/gary_ana/means.dat\")\n",
      "lines=f.readlines()\n",
      "l1=lines[0]\n",
      "l2=lines[1]\n",
      "l3=lines[2]\n",
      "l4=lines[3]\n",
      "l5=lines[4]\n",
      "l6=lines[5]\n",
      "l7=lines[6]\n",
      "l8=lines[7]\n",
      "l9=lines[8]\n",
      "l10=lines[9]\n",
      "l11=lines[10]\n",
      "l12=lines[11]\n",
      "l13=lines[12]\n",
      "l14=lines[13]\n",
      "l15=lines[14]\n",
      "l16=lines[15]\n",
      "print l1,l2,l3"
     ],
     "language": "python",
     "metadata": {},
     "outputs": [
      {
       "output_type": "stream",
       "stream": "stdout",
       "text": [
        "47.9489\n",
        "46.8032\n",
        "46.7819\n",
        "\n"
       ]
      }
     ],
     "prompt_number": 25
    },
    {
     "cell_type": "code",
     "collapsed": false,
     "input": [
      "d={}\n",
      "d[1]={1:\n",
      "      {\n",
      "       ('1_2_3','norm'):0,('2_3_4','norm'):0,\n",
      "       ('3_4_5','norm'):0,('4_5_6','norm'):0,\n",
      "       ('1_3_5','norm'):0,('2_4_6','norm'):0,\n",
      "       ('1_2_3','comp'):0,('2_3_4','comp'):0,\n",
      "       ('3_4_5','comp'):0,('4_5_6','comp'):0,\n",
      "       ('1_3_5','comp'):0,('2_4_6','comp'):0\n",
      "       },\n",
      "      2:\n",
      "      {'norm':0,'comp':0,'norm-comp':0},\n",
      "      3:\n",
      "      {('1','mtrx'):0,('2','mtrx'):0,('3','mtrx'):0,\n",
      "       ('4','mtrx'):0,('5','mtrx'):0,('6','mtrx'):0,\n",
      "       ('1','mean'):0,('2','mean'):0,('3','mean'):0,\n",
      "       ('4','mean'):0,('5','mean'):0,('6','mean'):0}\n",
      "     }\n",
      "print d"
     ],
     "language": "python",
     "metadata": {},
     "outputs": [
      {
       "output_type": "stream",
       "stream": "stdout",
       "text": [
        "{1: {1: {('2_4_6', 'norm'): 0, ('2_4_6', 'comp'): 0, ('1_3_5', 'comp'): 0, ('3_4_5', 'comp'): 0, ('4_5_6', 'comp'): 0, ('4_5_6', 'norm'): 0, ('2_3_4', 'norm'): 0, ('3_4_5', 'norm'): 0, ('2_3_4', 'comp'): 0, ('1_2_3', 'comp'): 0, ('1_3_5', 'norm'): 0, ('1_2_3', 'norm'): 0}, 2: {'comp': 0, 'norm-comp': 0, 'norm': 0}, 3: {('6', 'mean'): 0, ('5', 'mean'): 0, ('6', 'mtrx'): 0, ('5', 'mtrx'): 0, ('2', 'mean'): 0, ('1', 'mean'): 0, ('2', 'mtrx'): 0, ('1', 'mtrx'): 0, ('4', 'mtrx'): 0, ('3', 'mtrx'): 0, ('4', 'mean'): 0, ('3', 'mean'): 0}}}\n"
       ]
      }
     ],
     "prompt_number": 18
    },
    {
     "cell_type": "code",
     "collapsed": false,
     "input": [
      "s=\"arjun\"\n",
      "print s.find(\"rohit\")\n",
      "print s.find(\"ar\")\n",
      "if \"ar\" in s:\n",
      "    print \"success\""
     ],
     "language": "python",
     "metadata": {},
     "outputs": [
      {
       "output_type": "stream",
       "stream": "stdout",
       "text": [
        "-1\n",
        "0\n",
        "success\n"
       ]
      }
     ],
     "prompt_number": 27
    },
    {
     "cell_type": "code",
     "collapsed": false,
     "input": [
      "datadir=os.path.join(os.environ['FTOF_DATADIR'],\"analyzed\",\"stat_err_ana\")\n",
      "\n",
      "def MyFn(s):\n",
      "    #pos=s.find(\"July\")\n",
      "    if s.find(\"July\")==0:\n",
      "        pos=s.find(\"July\")\n",
      "        date= s[pos+5:pos+7]\n",
      "    elif s.find(\"August\")==0:\n",
      "        pos=s.find(\"August\")\n",
      "        date= s[pos+7:pos+9]\n",
      "    return int(date)\n",
      "#! Get all 40dr-2dc- root files\n",
      "fnl={}\n",
      "t={}\n",
      "#! First get all July files\n",
      "for mthd in ['MLE','CSQ']:\n",
      "    path=\"%s/40-day-run-2-day-cycles/%s\"%(datadir,mthd)\n",
      "    #print path\n",
      "    t[mthd]=[ os.path.join(path,f) for f in os.listdir(path) if os.path.isfile(os.path.join(path,f))]\n",
      "#     t= os.path.join(path,f)\n",
      "#     fnl[mthd]=[ f for f in os.listdir(path) if ( os.path.isfile(os.path.join(path,f)) and  \n",
      "#                                                 os.path.join(path,f).find(\"July\")==0 )]\n",
      "#     fnl[mthd]=sorted(fnl[mthd],key=MyFn)\n",
      "# print fnl['MLE']\n",
      "#print t['MLE']\n",
      "for fn in t['MLE']:\n",
      "    print fn\n",
      "    if fn.find(\"July\")>=0:\n",
      "        print \"July file=\",fn\n",
      "    else:\n",
      "        print \"Not found July file\""
     ],
     "language": "python",
     "metadata": {},
     "outputs": [
      {
       "output_type": "stream",
       "stream": "stdout",
       "text": [
        "/data/trivedia/FTOF/analyzed/stat_err_ana/40-day-run-2-day-cycles/MLE/August-07-08-2014-cycle1-1st-article_321654.root\n",
        "Not found July file\n",
        "/data/trivedia/FTOF/analyzed/stat_err_ana/40-day-run-2-day-cycles/MLE/July-12-13-2014-cycle1-1st-article_321654.root\n",
        "July file= /data/trivedia/FTOF/analyzed/stat_err_ana/40-day-run-2-day-cycles/MLE/July-12-13-2014-cycle1-1st-article_321654.root\n",
        "/data/trivedia/FTOF/analyzed/stat_err_ana/40-day-run-2-day-cycles/MLE/July-20-21-2014-cycle1-1st-article_321654.root\n",
        "July file= /data/trivedia/FTOF/analyzed/stat_err_ana/40-day-run-2-day-cycles/MLE/July-20-21-2014-cycle1-1st-article_321654.root\n",
        "/data/trivedia/FTOF/analyzed/stat_err_ana/40-day-run-2-day-cycles/MLE/July-24-25-2014-cycle1-1st-article_321654.root\n",
        "July file= /data/trivedia/FTOF/analyzed/stat_err_ana/40-day-run-2-day-cycles/MLE/July-24-25-2014-cycle1-1st-article_321654.root\n",
        "/data/trivedia/FTOF/analyzed/stat_err_ana/40-day-run-2-day-cycles/MLE/July-18-19-2014-cycle1-1st-article_321654.root\n",
        "July file= /data/trivedia/FTOF/analyzed/stat_err_ana/40-day-run-2-day-cycles/MLE/July-18-19-2014-cycle1-1st-article_321654.root\n",
        "/data/trivedia/FTOF/analyzed/stat_err_ana/40-day-run-2-day-cycles/MLE/July-04-05-2014-cycle1-1st-article_321654.root\n",
        "July file= /data/trivedia/FTOF/analyzed/stat_err_ana/40-day-run-2-day-cycles/MLE/July-04-05-2014-cycle1-1st-article_321654.root\n",
        "/data/trivedia/FTOF/analyzed/stat_err_ana/40-day-run-2-day-cycles/MLE/July-08-09-2014-cycle1-1st-article_321654.root\n",
        "July file= /data/trivedia/FTOF/analyzed/stat_err_ana/40-day-run-2-day-cycles/MLE/July-08-09-2014-cycle1-1st-article_321654.root\n",
        "/data/trivedia/FTOF/analyzed/stat_err_ana/40-day-run-2-day-cycles/MLE/July-16-17-2014-cycle1-1st-article_321654.root\n",
        "July file= /data/trivedia/FTOF/analyzed/stat_err_ana/40-day-run-2-day-cycles/MLE/July-16-17-2014-cycle1-1st-article_321654.root\n",
        "/data/trivedia/FTOF/analyzed/stat_err_ana/40-day-run-2-day-cycles/MLE/July-14-15-2014-cycle1-1st-article_321654.root\n",
        "July file= /data/trivedia/FTOF/analyzed/stat_err_ana/40-day-run-2-day-cycles/MLE/July-14-15-2014-cycle1-1st-article_321654.root\n",
        "/data/trivedia/FTOF/analyzed/stat_err_ana/40-day-run-2-day-cycles/MLE/July-06-07-2014-cycle1-1st-article_321654.root\n",
        "July file= /data/trivedia/FTOF/analyzed/stat_err_ana/40-day-run-2-day-cycles/MLE/July-06-07-2014-cycle1-1st-article_321654.root\n",
        "/data/trivedia/FTOF/analyzed/stat_err_ana/40-day-run-2-day-cycles/MLE/July-10-11-2014-cycle1-1st-article_321654.root\n",
        "July file= /data/trivedia/FTOF/analyzed/stat_err_ana/40-day-run-2-day-cycles/MLE/July-10-11-2014-cycle1-1st-article_321654.root\n",
        "/data/trivedia/FTOF/analyzed/stat_err_ana/40-day-run-2-day-cycles/MLE/August-03-04-2014-cycle1-1st-article_321654.root\n",
        "Not found July file\n",
        "/data/trivedia/FTOF/analyzed/stat_err_ana/40-day-run-2-day-cycles/MLE/July-28-29-2014-cycle1-1st-article_321654.root\n",
        "July file= /data/trivedia/FTOF/analyzed/stat_err_ana/40-day-run-2-day-cycles/MLE/July-28-29-2014-cycle1-1st-article_321654.root\n",
        "/data/trivedia/FTOF/analyzed/stat_err_ana/40-day-run-2-day-cycles/MLE/July-30-31-2014-cycle1-1st-article_321654.root\n",
        "July file= /data/trivedia/FTOF/analyzed/stat_err_ana/40-day-run-2-day-cycles/MLE/July-30-31-2014-cycle1-1st-article_321654.root\n",
        "/data/trivedia/FTOF/analyzed/stat_err_ana/40-day-run-2-day-cycles/MLE/July-26-27-2014-cycle1-1st-article_321654.root\n",
        "July file= /data/trivedia/FTOF/analyzed/stat_err_ana/40-day-run-2-day-cycles/MLE/July-26-27-2014-cycle1-1st-article_321654.root\n",
        "/data/trivedia/FTOF/analyzed/stat_err_ana/40-day-run-2-day-cycles/MLE/July-22-23-2014-cycle1-1st-article_321654.root\n",
        "July file= /data/trivedia/FTOF/analyzed/stat_err_ana/40-day-run-2-day-cycles/MLE/July-22-23-2014-cycle1-1st-article_321654.root\n",
        "/data/trivedia/FTOF/analyzed/stat_err_ana/40-day-run-2-day-cycles/MLE/July-02-03-2014-cycle1-1st-article_321654.root\n",
        "July file= /data/trivedia/FTOF/analyzed/stat_err_ana/40-day-run-2-day-cycles/MLE/July-02-03-2014-cycle1-1st-article_321654.root\n",
        "/data/trivedia/FTOF/analyzed/stat_err_ana/40-day-run-2-day-cycles/MLE/August-05-06-2014-cycle1-1st-article_321654.root\n",
        "Not found July file\n",
        "/data/trivedia/FTOF/analyzed/stat_err_ana/40-day-run-2-day-cycles/MLE/August-09-10-2014-cycle1-1st-article_321654.root\n",
        "Not found July file\n",
        "/data/trivedia/FTOF/analyzed/stat_err_ana/40-day-run-2-day-cycles/MLE/August-01-02-2014-cycle1-1st-article_321654.root\n",
        "Not found July file\n"
       ]
      }
     ],
     "prompt_number": 4
    },
    {
     "cell_type": "code",
     "collapsed": false,
     "input": [
      "r='/data/trivedia/FTOF/analyzed/stat_err_ana/40-day-run-2-day-cycles/MLE/July-12-13-2014-cycle1-1st-article_321654.root'"
     ],
     "language": "python",
     "metadata": {},
     "outputs": [],
     "prompt_number": 4
    },
    {
     "cell_type": "code",
     "collapsed": false,
     "input": [
      "print r"
     ],
     "language": "python",
     "metadata": {},
     "outputs": [
      {
       "output_type": "stream",
       "stream": "stdout",
       "text": [
        "/data/trivedia/FTOF/analyzed/stat_err_ana/40-day-run-2-day-cycles/MLE/July-12-13-2014-cycle1-1st-article_321654.root\n"
       ]
      }
     ],
     "prompt_number": 5
    },
    {
     "cell_type": "code",
     "collapsed": false,
     "input": [
      "r.find(\"July\")"
     ],
     "language": "python",
     "metadata": {},
     "outputs": [
      {
       "metadata": {},
       "output_type": "pyout",
       "prompt_number": 6,
       "text": [
        "70"
       ]
      }
     ],
     "prompt_number": 6
    },
    {
     "cell_type": "code",
     "collapsed": false,
     "input": [
      "d1={1:2,3:4}; d2={5:6,7:9}; d3={10:8,13:22}"
     ],
     "language": "python",
     "metadata": {},
     "outputs": [],
     "prompt_number": 6
    },
    {
     "cell_type": "code",
     "collapsed": false,
     "input": [
      "d4 = dict(d1.items() + d2.items() + d3.items())"
     ],
     "language": "python",
     "metadata": {},
     "outputs": [],
     "prompt_number": 7
    },
    {
     "cell_type": "code",
     "collapsed": false,
     "input": [
      "print d4"
     ],
     "language": "python",
     "metadata": {},
     "outputs": [
      {
       "output_type": "stream",
       "stream": "stdout",
       "text": [
        "{1: 2, 3: 4, 5: 6, 7: 9, 10: 8, 13: 22}\n"
       ]
      }
     ],
     "prompt_number": 8
    },
    {
     "cell_type": "code",
     "collapsed": false,
     "input": [
      "d1={'MLE':[1,2,3],'CSQ':[11,22,33]}; d2={'MLE':[4,5,6],'CSQ':[111,222,333]}; d3={'MLE':[7,8,9],'CSQ':[1111,2222,3333]}\n",
      "d4 = dict(d1)\n",
      "for d in (d2, d3): \n",
      "    d4['MLE']+=d['MLE']\n",
      "    #d4['CSQ']+=d['CSQ']\n",
      "print d4"
     ],
     "language": "python",
     "metadata": {},
     "outputs": [
      {
       "output_type": "stream",
       "stream": "stdout",
       "text": [
        "{'CSQ': [11, 22, 33], 'MLE': [1, 2, 3, 4, 5, 6, 7, 8, 9]}\n"
       ]
      }
     ],
     "prompt_number": 18
    },
    {
     "cell_type": "code",
     "collapsed": false,
     "input": [
      "12/10"
     ],
     "language": "python",
     "metadata": {},
     "outputs": [
      {
       "metadata": {},
       "output_type": "pyout",
       "prompt_number": 22,
       "text": [
        "1"
       ]
      }
     ],
     "prompt_number": 22
    },
    {
     "cell_type": "code",
     "collapsed": false,
     "input": [
      "from __future__ import division\n",
      "1/2*100"
     ],
     "language": "python",
     "metadata": {},
     "outputs": [
      {
       "metadata": {},
       "output_type": "pyout",
       "prompt_number": 24,
       "text": [
        "50.0"
       ]
      }
     ],
     "prompt_number": 24
    },
    {
     "cell_type": "code",
     "collapsed": false,
     "input": [
      "text_file = open(\"test.txt\", \"w\")\n",
      "text_file.write(\"Purchase Amount: %s\" % 100)\n",
      "text_file.close()"
     ],
     "language": "python",
     "metadata": {},
     "outputs": [],
     "prompt_number": 2
    },
    {
     "cell_type": "code",
     "collapsed": false,
     "input": [
      "map(map_co,[0,1,2,3,4,5,6,7,8,9,10,11],[4,5,2,3,0,1,10,11,8,9,6,7])"
     ],
     "language": "python",
     "metadata": {},
     "outputs": [
      {
       "ename": "NameError",
       "evalue": "name 'map_co' is not defined",
       "output_type": "pyerr",
       "traceback": [
        "\u001b[1;31m---------------------------------------------------------------------------\u001b[0m\n\u001b[1;31mNameError\u001b[0m                                 Traceback (most recent call last)",
        "\u001b[1;32m<ipython-input-4-6b347c8aa44c>\u001b[0m in \u001b[0;36m<module>\u001b[1;34m()\u001b[0m\n\u001b[1;32m----> 1\u001b[1;33m \u001b[0mmap\u001b[0m\u001b[1;33m(\u001b[0m\u001b[0mmap_co\u001b[0m\u001b[1;33m,\u001b[0m\u001b[1;33m[\u001b[0m\u001b[1;36m0\u001b[0m\u001b[1;33m,\u001b[0m\u001b[1;36m1\u001b[0m\u001b[1;33m,\u001b[0m\u001b[1;36m2\u001b[0m\u001b[1;33m,\u001b[0m\u001b[1;36m3\u001b[0m\u001b[1;33m,\u001b[0m\u001b[1;36m4\u001b[0m\u001b[1;33m,\u001b[0m\u001b[1;36m5\u001b[0m\u001b[1;33m,\u001b[0m\u001b[1;36m6\u001b[0m\u001b[1;33m,\u001b[0m\u001b[1;36m7\u001b[0m\u001b[1;33m,\u001b[0m\u001b[1;36m8\u001b[0m\u001b[1;33m,\u001b[0m\u001b[1;36m9\u001b[0m\u001b[1;33m,\u001b[0m\u001b[1;36m10\u001b[0m\u001b[1;33m,\u001b[0m\u001b[1;36m11\u001b[0m\u001b[1;33m]\u001b[0m\u001b[1;33m,\u001b[0m\u001b[1;33m[\u001b[0m\u001b[1;36m4\u001b[0m\u001b[1;33m,\u001b[0m\u001b[1;36m5\u001b[0m\u001b[1;33m,\u001b[0m\u001b[1;36m2\u001b[0m\u001b[1;33m,\u001b[0m\u001b[1;36m3\u001b[0m\u001b[1;33m,\u001b[0m\u001b[1;36m0\u001b[0m\u001b[1;33m,\u001b[0m\u001b[1;36m1\u001b[0m\u001b[1;33m,\u001b[0m\u001b[1;36m10\u001b[0m\u001b[1;33m,\u001b[0m\u001b[1;36m11\u001b[0m\u001b[1;33m,\u001b[0m\u001b[1;36m8\u001b[0m\u001b[1;33m,\u001b[0m\u001b[1;36m9\u001b[0m\u001b[1;33m,\u001b[0m\u001b[1;36m6\u001b[0m\u001b[1;33m,\u001b[0m\u001b[1;36m7\u001b[0m\u001b[1;33m]\u001b[0m\u001b[1;33m)\u001b[0m\u001b[1;33m\u001b[0m\u001b[0m\n\u001b[0m",
        "\u001b[1;31mNameError\u001b[0m: name 'map_co' is not defined"
       ]
      }
     ],
     "prompt_number": 4
    },
    {
     "cell_type": "code",
     "collapsed": false,
     "input": [
      "def map_co(x,y):\n",
      "    print x,y\n",
      "t=map(map_co,[0,1,2,3,4,5,6,7,8,9,10,11],[4,5,2,3,0,1,10,11,8,9,6,7])"
     ],
     "language": "python",
     "metadata": {},
     "outputs": [
      {
       "output_type": "stream",
       "stream": "stdout",
       "text": [
        "0 4\n",
        "1 5\n",
        "2 2\n",
        "3 3\n",
        "4 0\n",
        "5 1\n",
        "6 10\n",
        "7 11\n",
        "8 8\n",
        "9 9\n",
        "10 6\n",
        "11 7\n"
       ]
      }
     ],
     "prompt_number": 1
    },
    {
     "cell_type": "code",
     "collapsed": false,
     "input": [
      "print t"
     ],
     "language": "python",
     "metadata": {},
     "outputs": [
      {
       "output_type": "stream",
       "stream": "stdout",
       "text": [
        "[None, None, None, None, None, None, None, None, None, None, None, None]\n"
       ]
      }
     ],
     "prompt_number": 2
    },
    {
     "cell_type": "code",
     "collapsed": false,
     "input": [
      "idx_co={0:4,1:5,2:2,3:3,4:0,5:1,6:10,7:11,8:8,9:9,10:6,11:7}"
     ],
     "language": "python",
     "metadata": {},
     "outputs": [],
     "prompt_number": 3
    },
    {
     "cell_type": "code",
     "collapsed": false,
     "input": [
      "print idx_co"
     ],
     "language": "python",
     "metadata": {},
     "outputs": [
      {
       "output_type": "stream",
       "stream": "stdout",
       "text": [
        "{0: 4, 1: 5, 2: 2, 3: 3, 4: 0, 5: 1, 6: 10, 7: 11, 8: 8, 9: 9, 10: 6, 11: 7}\n"
       ]
      }
     ],
     "prompt_number": 4
    },
    {
     "cell_type": "code",
     "collapsed": false,
     "input": [
      "range(1,13)"
     ],
     "language": "python",
     "metadata": {},
     "outputs": [
      {
       "metadata": {},
       "output_type": "pyout",
       "prompt_number": 5,
       "text": [
        "[1, 2, 3, 4, 5, 6, 7, 8, 9, 10, 11, 12]"
       ]
      }
     ],
     "prompt_number": 5
    },
    {
     "cell_type": "code",
     "collapsed": false,
     "input": [
      "f=open(\"test.txt\",\"w\")\n",
      "f.write(\"arjun\\n\")\n",
      "f.write(\"rohit\\n\")\n",
      "f.close()"
     ],
     "language": "python",
     "metadata": {},
     "outputs": [],
     "prompt_number": 9
    },
    {
     "cell_type": "code",
     "collapsed": false,
     "input": [
      "def get_res_dict():\n",
      "    d={1:\n",
      "        {\n",
      "          ('1_2_3','norm'):0,('2_3_4','norm'):0,\n",
      "          ('3_4_5','norm'):0,('4_5_6','norm'):0,\n",
      "          ('1_3_5','norm'):0,('2_4_6','norm'):0,\n",
      "          ('1_2_3','comp'):0,('2_3_4','comp'):0,\n",
      "          ('3_4_5','comp'):0,('4_5_6','comp'):0,\n",
      "          ('1_3_5','comp'):0,('2_4_6','comp'):0\n",
      "        },\n",
      "      2:\n",
      "        {'norm':0,'comp':0,'norm-comp':0},\n",
      "      3:\n",
      "        {\n",
      "          ('bar1','mtrx'):0,('bar2','mtrx'):0,('bar3','mtrx'):0,\n",
      "          ('bar4','mtrx'):0,('bar5','mtrx'):0,('bar6','mtrx'):0,\n",
      "          ('bar1','mean'):0,('bar2','mean'):0,('bar3','mean'):0,\n",
      "          ('bar4','mean'):0,('bar5','mean'):0,('bar6','mean'):0\n",
      "        },\n",
      "      4:0,\n",
      "      5:\n",
      "        {\n",
      "          'bar1':0,'mtrx':0,'bar3':0,\n",
      "          'bar4':0,'bar5':0,'bar6':0\n",
      "        }\n",
      "      \n",
      "     }\n",
      "    return d"
     ],
     "language": "python",
     "metadata": {},
     "outputs": [],
     "prompt_number": 10
    },
    {
     "cell_type": "code",
     "collapsed": false,
     "input": [
      "t={}\n",
      "t[1]=1100\n",
      "t[2]=233"
     ],
     "language": "python",
     "metadata": {},
     "outputs": [],
     "prompt_number": 17
    },
    {
     "cell_type": "code",
     "collapsed": false,
     "input": [
      "print t"
     ],
     "language": "python",
     "metadata": {},
     "outputs": [
      {
       "output_type": "stream",
       "stream": "stdout",
       "text": [
        "{1: 1100, 2: 233}\n"
       ]
      }
     ],
     "prompt_number": 18
    },
    {
     "cell_type": "code",
     "collapsed": false,
     "input": [
      "y=[1,2,3,4]"
     ],
     "language": "python",
     "metadata": {},
     "outputs": [],
     "prompt_number": 26
    },
    {
     "cell_type": "code",
     "collapsed": false,
     "input": [
      "print y"
     ],
     "language": "python",
     "metadata": {},
     "outputs": [
      {
       "output_type": "stream",
       "stream": "stdout",
       "text": [
        "[1, 2, 3, 4]\n"
       ]
      }
     ],
     "prompt_number": 27
    },
    {
     "cell_type": "code",
     "collapsed": false,
     "input": [
      "y=['%d(%d)'%(i,(i+1)) for i in y]"
     ],
     "language": "python",
     "metadata": {},
     "outputs": [],
     "prompt_number": 29
    },
    {
     "cell_type": "code",
     "collapsed": false,
     "input": [
      "print y"
     ],
     "language": "python",
     "metadata": {},
     "outputs": [
      {
       "output_type": "stream",
       "stream": "stdout",
       "text": [
        "['1(2)', '2(3)', '3(4)', '4(5)']\n"
       ]
      }
     ],
     "prompt_number": 30
    },
    {
     "cell_type": "code",
     "collapsed": false,
     "input": [
      "x=[2,3,1,7,4,6]\n",
      "y=[1,2,3,4,5,6]\n",
      "ax=plt.subplot(111)\n",
      "ax.scatter(x,y)\n",
      "ax.get_ylim()[0]"
     ],
     "language": "python",
     "metadata": {},
     "outputs": [
      {
       "metadata": {},
       "output_type": "pyout",
       "prompt_number": 44,
       "text": [
        "0.0"
       ]
      },
      {
       "metadata": {},
       "output_type": "display_data",
       "png": "[encoded data removed]",
       "text": [
        "<matplotlib.figure.Figure at 0x498efd0>"
       ]
      }
     ],
     "prompt_number": 44
    },
    {
     "cell_type": "code",
     "collapsed": false,
     "input": [
      "z=zip(x,y)"
     ],
     "language": "python",
     "metadata": {},
     "outputs": [],
     "prompt_number": 32
    },
    {
     "cell_type": "code",
     "collapsed": false,
     "input": [
      "print z"
     ],
     "language": "python",
     "metadata": {},
     "outputs": [
      {
       "output_type": "stream",
       "stream": "stdout",
       "text": [
        "[(2, 1), (3, 2), (1, 3), (7, 4), (4, 5), (6, 6)]\n"
       ]
      }
     ],
     "prompt_number": 33
    },
    {
     "cell_type": "code",
     "collapsed": false,
     "input": [
      "for i in z:\n",
      "    print i[0],i[1]"
     ],
     "language": "python",
     "metadata": {},
     "outputs": [
      {
       "output_type": "stream",
       "stream": "stdout",
       "text": [
        "2 1\n",
        "3 2\n",
        "1 3\n",
        "7 4\n",
        "4 5\n",
        "6 6\n"
       ]
      }
     ],
     "prompt_number": 36
    },
    {
     "cell_type": "code",
     "collapsed": false,
     "input": [
      "z.sort()\n",
      "print z\n",
      "xticks=[i[0] for i in z]\n",
      "print xticks"
     ],
     "language": "python",
     "metadata": {},
     "outputs": [
      {
       "output_type": "stream",
       "stream": "stdout",
       "text": [
        "[(1, 3), (2, 1), (3, 2), (4, 5), (6, 6), (7, 4)]\n",
        "[1, 2, 3, 4, 6, 7]\n"
       ]
      }
     ],
     "prompt_number": 41
    },
    {
     "cell_type": "code",
     "collapsed": false,
     "input": [
      "t=[i[0]+i[1] for i in z]\n",
      "print t"
     ],
     "language": "python",
     "metadata": {},
     "outputs": [
      {
       "output_type": "stream",
       "stream": "stdout",
       "text": [
        "[3, 5, 4, 11, 9, 12]\n"
       ]
      }
     ],
     "prompt_number": 38
    },
    {
     "cell_type": "code",
     "collapsed": false,
     "input": [
      "xx = np.arange(10)\n",
      "yy = np.random.random( 10 )\n",
      "plt.plot(xx, yy, 'o' )"
     ],
     "language": "python",
     "metadata": {},
     "outputs": [
      {
       "metadata": {},
       "output_type": "pyout",
       "prompt_number": 45,
       "text": [
        "[<matplotlib.lines.Line2D at 0x49ae690>]"
       ]
      },
      {
       "metadata": {},
       "output_type": "display_data",
       "png": "[encoded data removed]",
       "text": [
        "<matplotlib.figure.Figure at 0x4e81210>"
       ]
      }
     ],
     "prompt_number": 45
    },
    {
     "cell_type": "code",
     "collapsed": false,
     "input": [
      "xx = np.arange(10)\n",
      "yy = np.random.random( 10 )\n",
      "plt.plot(xx, yy)"
     ],
     "language": "python",
     "metadata": {},
     "outputs": [
      {
       "metadata": {},
       "output_type": "pyout",
       "prompt_number": 46,
       "text": [
        "[<matplotlib.lines.Line2D at 0x4f3bc90>]"
       ]
      },
      {
       "metadata": {},
       "output_type": "display_data",
       "png": "[encoded data removed]",
       "text": [
        "<matplotlib.figure.Figure at 0x4f02650>"
       ]
      }
     ],
     "prompt_number": 46
    },
    {
     "cell_type": "code",
     "collapsed": false,
     "input": [
      "mrkrd={1:2,1:3,3:4,4:5,5:8,6:20,7:21,8:22,9:23,10:24,11:25,12:26,13:27,14:28,15:29,16:30,17:32,18:33,19:34}"
     ],
     "language": "python",
     "metadata": {},
     "outputs": [],
     "prompt_number": 47
    },
    {
     "cell_type": "code",
     "collapsed": false,
     "input": [
      "mrkrd[1]"
     ],
     "language": "python",
     "metadata": {},
     "outputs": [
      {
       "metadata": {},
       "output_type": "pyout",
       "prompt_number": 48,
       "text": [
        "3"
       ]
      }
     ],
     "prompt_number": 48
    },
    {
     "cell_type": "code",
     "collapsed": false,
     "input": [
      "import rootnotes\n",
      "h1=ROOT.TH1F(\"h1\",\"h1\",10,0,10)\n",
      "h1.Fill(1)\n",
      "c=rootnotes.canvas(size=(1000,400))\n",
      "h1.Draw()\n",
      "c"
     ],
     "language": "python",
     "metadata": {},
     "outputs": [
      {
       "output_type": "stream",
       "stream": "stderr",
       "text": [
        "INFO:rootpy.logger] | No default log handler configured. See `logging` module |\n"
       ]
      },
      {
       "output_type": "stream",
       "stream": "stderr",
       "text": [
        "INFO:rootpy.logger] \\    To suppress: 'rootpy.log.basic_config_colorized()'   /\n"
       ]
      },
      {
       "output_type": "stream",
       "stream": "stderr",
       "text": [
        "INFO:ROOT.TCanvas.Print] png file /tmp/tmpZsoP7f.png has been created\n"
       ]
      },
      {
       "metadata": {},
       "output_type": "pyout",
       "png": "[encoded data removed]",
       "prompt_number": 1,
       "text": [
        "<ROOT.TCanvas object (\"icanvas\") at 0x66fee10>"
       ]
      }
     ],
     "prompt_number": 1
    },
    {
     "cell_type": "code",
     "collapsed": false,
     "input": [
      "h2=ROOT.TH1F(\"h2\",\"h2\",10,0,10)\n",
      "h2.Fill(2)\n",
      "c1=rootnotes.canvas(size=(1000,400))\n",
      "h2.Draw()\n",
      "c1"
     ],
     "language": "python",
     "metadata": {},
     "outputs": [
      {
       "output_type": "stream",
       "stream": "stderr",
       "text": [
        "INFO:ROOT.TCanvas.Print] png file /tmp/tmpn088D5.png has been created\n"
       ]
      },
      {
       "metadata": {},
       "output_type": "pyout",
       "png": "[encoded data removed]",
       "prompt_number": 2,
       "text": [
        "<ROOT.TCanvas object (\"icanvas\") at 0x66fee10>"
       ]
      }
     ],
     "prompt_number": 2
    },
    {
     "cell_type": "code",
     "collapsed": false,
     "input": [],
     "language": "python",
     "metadata": {},
     "outputs": []
    }
   ],
   "metadata": {}
  }
 ]
}