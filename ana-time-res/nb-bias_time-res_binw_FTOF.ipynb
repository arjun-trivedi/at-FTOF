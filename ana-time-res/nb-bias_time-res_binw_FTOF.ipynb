{
 "metadata": {
  "name": ""
 },
 "nbformat": 3,
 "nbformat_minor": 0,
 "worksheets": [
  {
   "cells": [
    {
     "cell_type": "code",
     "collapsed": false,
     "input": [
      "\"\"\"\n",
      "This notebook demoonstrates that when TDC RMS is ~1, a bin width of 0.25 is required for the T histograms,\n",
      "otherwise the fitted sigma (obtained from CSQ-WW) is biased\n",
      "\"\"\"\n",
      "from __future__ import division"
     ],
     "language": "python",
     "metadata": {},
     "outputs": [],
     "prompt_number": 3
    },
    {
     "cell_type": "code",
     "collapsed": false,
     "input": [
      "TOF_CLB=sqrt(2/3)*25\n",
      "MU=190\n",
      "SG=1\n",
      "TRUE_SIGMA=1*TOF_CLB"
     ],
     "language": "python",
     "metadata": {},
     "outputs": [],
     "prompt_number": 8
    },
    {
     "cell_type": "code",
     "collapsed": false,
     "input": [
      "\"\"\"First show that the estimated sigma from fit is biased higher than true sigma\n",
      "(as demonstrated in nb-comp-CSQWW-CSQ_FTOF-binw-1)\"\"\"\n",
      "binw=1\n",
      "sg=[]\n",
      "for i in range(500):\n",
      "    d=np.random.normal(MU,SG,480)\n",
      "    xmin=int(MU-8*SG)\n",
      "    xmax=int(MU+8*SG)\n",
      "    nbins=int(round((xmax-xmin)/binw))\n",
      "    #print nbins\n",
      "    h=Hist(nbins,xmin,xmax)\n",
      "    h.fill_array(d)\n",
      "    h.Fit(\"gaus\",\"WW\")\n",
      "    sg.append(h.GetFunction(\"gaus\").GetParameter(2)*TOF_CLB)\n",
      "ax=plt.subplot(111)\n",
      "ret=ax.hist(sg)\n",
      "ax.vlines(TRUE_SIGMA,ax.get_ylim()[0],ax.get_ylim()[1],colors='r')\n",
      "print \"Bias:(average(sg)-TRUE_SIGMA)=\",average(sg)-TRUE_SIGMA"
     ],
     "language": "python",
     "metadata": {},
     "outputs": [
      {
       "output_type": "stream",
       "stream": "stdout",
       "text": [
        "Bias:(average(sg)-TRUE_SIGMA)= 0.796665137253\n"
       ]
      },
      {
       "metadata": {},
       "output_type": "display_data",
       "png": "[encoded data removed]",
       "text": [
        "<matplotlib.figure.Figure at 0x68aa890>"
       ]
      }
     ],
     "prompt_number": 21
    },
    {
     "cell_type": "code",
     "collapsed": false,
     "input": [
      "\"\"\"Now show that when bin width=0.25, there is still a bias, but it is not always positive (depends on N as \n",
      "demonstrated in nb-comp-CSQWW-CSQ_FTOF-binw-0.25) as the case when bin width=1 (as demonstrated in \n",
      "nb-comp-CSQWW-CSQ_FTOF-binw-1)and more importantly, its magnitude is smaller\"\"\"\n",
      "binw=0.25\n",
      "sg=[]\n",
      "for i in range(500):\n",
      "    d=np.random.normal(MU,SG,520)\n",
      "    xmin=int(MU-8*SG)\n",
      "    xmax=int(MU+8*SG)\n",
      "    nbins=int(round((xmax-xmin)/binw))\n",
      "    #print nbins\n",
      "    h=Hist(nbins,xmin,xmax)\n",
      "    h.fill_array(d)\n",
      "    h.Fit(\"gaus\",\"WW\")\n",
      "    sg.append(h.GetFunction(\"gaus\").GetParameter(2)*TOF_CLB)\n",
      "ax=plt.subplot(111)\n",
      "ret=ax.hist(sg)\n",
      "ax.vlines(TOF_CLB,ax.get_ylim()[0],ax.get_ylim()[1],colors='r')\n",
      "print \"Bias:(average(sg)-TRUE_SIGMA)=\",average(sg)-TRUE_SIGMA"
     ],
     "language": "python",
     "metadata": {},
     "outputs": [
      {
       "output_type": "stream",
       "stream": "stdout",
       "text": [
        "Bias:(average(sg)-TRUE_SIGMA)= 0.0323451727208\n"
       ]
      },
      {
       "metadata": {},
       "output_type": "display_data",
       "png": "[encoded data removed]",
       "text": [
        "<matplotlib.figure.Figure at 0x48db090>"
       ]
      }
     ],
     "prompt_number": 20
    },
    {
     "cell_type": "code",
     "collapsed": false,
     "input": [],
     "language": "python",
     "metadata": {},
     "outputs": []
    }
   ],
   "metadata": {}
  }
 ]
}