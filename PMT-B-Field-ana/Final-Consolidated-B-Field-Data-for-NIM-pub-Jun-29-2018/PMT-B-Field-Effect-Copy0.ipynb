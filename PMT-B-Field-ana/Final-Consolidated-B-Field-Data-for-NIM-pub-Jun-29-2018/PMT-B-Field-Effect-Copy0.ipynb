{
 "metadata": {
  "name": ""
 },
 "nbformat": 3,
 "nbformat_minor": 0,
 "worksheets": [
  {
   "cells": [
    {
     "cell_type": "code",
     "collapsed": false,
     "input": [
      "d = {'col1': [1, 2], 'col2': [3, 4]}\n",
      "df = pd.DataFrame(data=d)\n",
      "df.rename(index={0: 'a'})\n",
      "df"
     ],
     "language": "python",
     "metadata": {},
     "outputs": [
      {
       "html": [
        "<div style=\"max-height:1000px;max-width:1500px;overflow:auto;\">\n",
        "<table border=\"1\" class=\"dataframe\">\n",
        "  <thead>\n",
        "    <tr style=\"text-align: right;\">\n",
        "      <th></th>\n",
        "      <th>col1</th>\n",
        "      <th>col2</th>\n",
        "    </tr>\n",
        "  </thead>\n",
        "  <tbody>\n",
        "    <tr>\n",
        "      <th>0</th>\n",
        "      <td> 1</td>\n",
        "      <td> 3</td>\n",
        "    </tr>\n",
        "    <tr>\n",
        "      <th>1</th>\n",
        "      <td> 2</td>\n",
        "      <td> 4</td>\n",
        "    </tr>\n",
        "  </tbody>\n",
        "</table>\n",
        "</div>"
       ],
       "metadata": {},
       "output_type": "pyout",
       "prompt_number": 11,
       "text": [
        "   col1  col2\n",
        "0     1     3\n",
        "1     2     4"
       ]
      }
     ],
     "prompt_number": 11
    },
    {
     "cell_type": "code",
     "collapsed": false,
     "input": [
      "df = pd.DataFrame({'age':[30, 2, 12],\n",
      "                       'color':['blue', 'green', 'red'],\n",
      "                       'food':['Steak', 'Lamb', 'Mango'],\n",
      "                       'height':[165, 70, 120],\n",
      "                       'score':[4.6, 8.3, 9.0],\n",
      "                       'state':['NY', 'TX', 'FL']},\n",
      "                       index = ['Jane', 'Nick', 'Aaron'])\n",
      "df"
     ],
     "language": "python",
     "metadata": {},
     "outputs": [
      {
       "output_type": "stream",
       "stream": "stderr",
       "text": [
        "/usr/local/lib/python2.7/dist-packages/pandas/core/common.py:206: DeprecationWarning: numpy boolean negative, the `-` operator, is deprecated, use the `~` operator or the logical_not function instead.\n",
        "  return -res\n"
       ]
      },
      {
       "html": [
        "<div style=\"max-height:1000px;max-width:1500px;overflow:auto;\">\n",
        "<table border=\"1\" class=\"dataframe\">\n",
        "  <thead>\n",
        "    <tr style=\"text-align: right;\">\n",
        "      <th></th>\n",
        "      <th>age</th>\n",
        "      <th>color</th>\n",
        "      <th>food</th>\n",
        "      <th>height</th>\n",
        "      <th>score</th>\n",
        "      <th>state</th>\n",
        "    </tr>\n",
        "  </thead>\n",
        "  <tbody>\n",
        "    <tr>\n",
        "      <th>Jane</th>\n",
        "      <td> 30</td>\n",
        "      <td>  blue</td>\n",
        "      <td> Steak</td>\n",
        "      <td> 165</td>\n",
        "      <td> 4.6</td>\n",
        "      <td> NY</td>\n",
        "    </tr>\n",
        "    <tr>\n",
        "      <th>Nick</th>\n",
        "      <td>  2</td>\n",
        "      <td> green</td>\n",
        "      <td>  Lamb</td>\n",
        "      <td>  70</td>\n",
        "      <td> 8.3</td>\n",
        "      <td> TX</td>\n",
        "    </tr>\n",
        "    <tr>\n",
        "      <th>Aaron</th>\n",
        "      <td> 12</td>\n",
        "      <td>   red</td>\n",
        "      <td> Mango</td>\n",
        "      <td> 120</td>\n",
        "      <td> 9.0</td>\n",
        "      <td> FL</td>\n",
        "    </tr>\n",
        "  </tbody>\n",
        "</table>\n",
        "</div>"
       ],
       "metadata": {},
       "output_type": "pyout",
       "prompt_number": 13,
       "text": [
        "       age  color   food  height  score state\n",
        "Jane    30   blue  Steak     165    4.6    NY\n",
        "Nick     2  green   Lamb      70    8.3    TX\n",
        "Aaron   12    red  Mango     120    9.0    FL"
       ]
      }
     ],
     "prompt_number": 13
    },
    {
     "cell_type": "code",
     "collapsed": false,
     "input": [
      "print np.mean(list(df[\"col1\"]))\n",
      "print np.std(list(df[\"col1\"]))"
     ],
     "language": "python",
     "metadata": {},
     "outputs": [
      {
       "output_type": "stream",
       "stream": "stdout",
       "text": [
        "1.5\n",
        "0.5\n"
       ]
      }
     ],
     "prompt_number": 13
    },
    {
     "cell_type": "code",
     "collapsed": false,
     "input": [
      "df[\"col1\"].RMS()"
     ],
     "language": "python",
     "metadata": {},
     "outputs": [
      {
       "ename": "AttributeError",
       "evalue": "'Series' object has no attribute 'RMS'",
       "output_type": "pyerr",
       "traceback": [
        "\u001b[1;31m---------------------------------------------------------------------------\u001b[0m\n\u001b[1;31mAttributeError\u001b[0m                            Traceback (most recent call last)",
        "\u001b[1;32m<ipython-input-5-100b64b17f64>\u001b[0m in \u001b[0;36m<module>\u001b[1;34m()\u001b[0m\n\u001b[1;32m----> 1\u001b[1;33m \u001b[0mdf\u001b[0m\u001b[1;33m[\u001b[0m\u001b[1;34m\"col1\"\u001b[0m\u001b[1;33m]\u001b[0m\u001b[1;33m.\u001b[0m\u001b[0mRMS\u001b[0m\u001b[1;33m(\u001b[0m\u001b[1;33m)\u001b[0m\u001b[1;33m\u001b[0m\u001b[0m\n\u001b[0m",
        "\u001b[1;31mAttributeError\u001b[0m: 'Series' object has no attribute 'RMS'"
       ]
      }
     ],
     "prompt_number": 5
    },
    {
     "cell_type": "code",
     "collapsed": false,
     "input": [
      "int(2.2)"
     ],
     "language": "python",
     "metadata": {},
     "outputs": [
      {
       "metadata": {},
       "output_type": "pyout",
       "prompt_number": 5,
       "text": [
        "2"
       ]
      }
     ],
     "prompt_number": 5
    },
    {
     "cell_type": "code",
     "collapsed": false,
     "input": [
      "a=[1]\n",
      "b=[2]\n",
      "a+b"
     ],
     "language": "python",
     "metadata": {},
     "outputs": [
      {
       "metadata": {},
       "output_type": "pyout",
       "prompt_number": 6,
       "text": [
        "[1, 2]"
       ]
      }
     ],
     "prompt_number": 6
    },
    {
     "cell_type": "code",
     "collapsed": false,
     "input": [],
     "language": "python",
     "metadata": {},
     "outputs": []
    }
   ],
   "metadata": {}
  }
 ]
}