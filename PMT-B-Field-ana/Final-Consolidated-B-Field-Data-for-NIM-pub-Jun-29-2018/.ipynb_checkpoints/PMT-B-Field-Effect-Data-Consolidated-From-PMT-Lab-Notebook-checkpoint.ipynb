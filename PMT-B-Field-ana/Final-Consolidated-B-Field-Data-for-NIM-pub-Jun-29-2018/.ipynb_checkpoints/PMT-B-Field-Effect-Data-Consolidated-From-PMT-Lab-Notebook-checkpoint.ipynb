{
 "metadata": {
  "name": ""
 },
 "nbformat": 3,
 "nbformat_minor": 0,
 "worksheets": [
  {
   "cells": [
    {
     "cell_type": "code",
     "collapsed": false,
     "input": [
      "'''\n",
      "+ Noted all ADC distribution data for each {X Gauss}*{T,A}*{shielding}*{measurements}\n",
      "+ Mean and RMS computed for each {X Gauss}*{T,A}*{shielding}*{measurements}\n",
      "'''"
     ],
     "language": "python",
     "metadata": {},
     "outputs": []
    },
    {
     "cell_type": "code",
     "collapsed": false,
     "input": [
      "import itertools\n",
      "#! Store mean values of ADC distribution for {X Gauss}*{T,A}*{shielding}*{measurements}\n",
      "d_0G=[602,614,572,559,576,613,607,620,605,600,594,593,584,589,586,582,582,587,583]\n",
      "#! readings taken in between and end of runs to investigate possible b-field related systematic effects, like \"memory effect\"\n",
      "d_0G_in_btwn_rdngs=[565,593,611,594,587,581,581,577,577,570,573,572,569,573,580,582,575,576,576,568,574,573,574,572,573,577]\n",
      "mean_0G=int(np.mean(d_0G+d_0G_in_btwn_rdngs))\n",
      "RMS_0G=int(np.std(d_0G+d_0G_in_btwn_rdngs))\n",
      "print \"mean_0G,RMS_0G=\",mean_0G,RMS_0G\n",
      "\n",
      "#! For values greater than 0G, store data for {sheilding level}*{T,A}:\n",
      "#! d_XG={measurments}*{sheilding level}*{T,A}\n",
      "#! + Explicit format:\n",
      "#! d_XG=[[T_NOcm,A_NOcm],[T_0cm,A_0cm],[T_1cm,A_1cm],[T_2cm,A_2cm],[T_3cm,A_3cm],[T_4cm,A_4cm],\n",
      "#!         .\n",
      "#!         .\n",
      "#!         .\n",
      "#!       [T_NOcm,A_NOcm],[T_0cm,A_0cm],[T_1cm,A_1cm],[T_2cm,A_2cm],[T_3cm,A_3cm],[T_4cm,A_4cm]]\n",
      "cmN,cm0,cm1,cm2,cm3,cm4=range(6)\n",
      "T,A=range(2)\n",
      "\n",
      "#! 5G\n",
      "d_5G=[[[600,569],[0,0],    [0,0],    [0,0],    [0,0],     [0,0]],\n",
      "      [[625,595],[0,0],    [0,0],    [0,0],    [0,0],     [0,0]],\n",
      "      [[563,534],[559,550],[0,0],    [0,0],    [0,0],     [0,0]],\n",
      "      [[0,0],    [0,0],    [0,0],    [0,0],    [584,588], [0,0]],\n",
      "      [[0,0],    [0,0],    [604,581],[0,0],    [0,0],     [0,0]],\n",
      "      [[0,0],    [0,0],    [0,0],    [590,588],[0,0],     [0,0]],\n",
      "      [[0,0],    [0,0],    [0,0],    [0,0],    [612,590], [0,0]],\n",
      "      [[614,577],[601,552],[0,0],    [0,0],    [0,0],     [0,0]]]\n",
      "mean_5G=[[0 for j in [T,A]] for i in [cmN,cm0,cm1,cm2,cm3,cm4]]\n",
      "RMS_5G =[[0 for j in [T,A]] for i in [cmN,cm0,cm1,cm2,cm3,cm4]]\n",
      "#print mean_5G\n",
      "for item in itertools.product([cmN,cm0,cm1,cm2,cm3,cm4],[T,A]):\n",
      "    sh,bf=item[0],item[1]\n",
      "    #print sh,bf\n",
      "    mean_5G[sh][bf]=round(np.mean([d_5G[i][sh][bf] for i in range(len(d_5G)) if d_5G[i][sh][bf]!=0]),0)\n",
      "    RMS_5G[sh][bf] =round(np.std ([d_5G[i][sh][bf] for i in range(len(d_5G)) if d_5G[i][sh][bf]!=0]),0)\n",
      "print \"mean_5G,RMS_5G:\"\n",
      "print mean_5G\n",
      "print RMS_5G"
     ],
     "language": "python",
     "metadata": {},
     "outputs": [
      {
       "output_type": "stream",
       "stream": "stdout",
       "text": [
        "mean_0G,RMS_0G= 583 14\n",
        "mean_5G,RMS_5G:\n",
        "[[601.0, 569.0], [580.0, 551.0], [604.0, 581.0], [590.0, 588.0], [598.0, 589.0], [nan, nan]]\n",
        "[[23.0, 22.0], [21.0, 1.0], [0.0, 0.0], [0.0, 0.0], [14.0, 1.0], [nan, nan]]\n"
       ]
      },
      {
       "output_type": "stream",
       "stream": "stderr",
       "text": [
        "/usr/local/lib/python2.7/dist-packages/numpy/core/fromnumeric.py:2889: RuntimeWarning: Mean of empty slice.\n",
        "  out=out, **kwargs)\n",
        "/usr/local/lib/python2.7/dist-packages/numpy/core/_methods.py:135: RuntimeWarning: Degrees of freedom <= 0 for slice\n",
        "  keepdims=keepdims)\n"
       ]
      }
     ],
     "prompt_number": 2
    },
    {
     "cell_type": "code",
     "collapsed": false,
     "input": [
      "#! 10G\n",
      "d_10G=[[[601,443],    [0,0],        [0,0],    [0,0],    [0,0],      [0,0]],\n",
      "       [[617,446],    [0,0],        [0,0],    [0,0],    [0,0],      [0,0]],\n",
      "       [[574,411],    [575,454],    [0,0],    [0,0],    [0,0],      [0,0]],\n",
      "       [[0,0],        [0,0],        [0,0],    [585,564],[0,0],      [0,0]],\n",
      "       [[0,0],        [0,0],        [586,512],[0,0],    [0,0],      [0,0]],\n",
      "       [[0,0],        [0,0],        [0,0],    [587,585],[0,0],      [0,0]],\n",
      "       [[0,0],        [0,0],        [0,0],    [0,0],    [608,613],  [0,0]],\n",
      "       [[602,437],    [607,432],    [0,0],    [0,0],    [0,0],      [0,0]]]\n",
      "mean_10G=[[0 for j in [T,A]] for i in [cmN,cm0,cm1,cm2,cm3,cm4]]\n",
      "RMS_10G =[[0 for j in [T,A]] for i in [cmN,cm0,cm1,cm2,cm3,cm4]]\n",
      "#print mean_5G\n",
      "for item in itertools.product([cmN,cm0,cm1,cm2,cm3,cm4],[T,A]):\n",
      "    sh,bf=item[0],item[1]\n",
      "    #print sh,bf\n",
      "    mean_10G[sh][bf]=round(np.mean([d_10G[i][sh][bf] for i in range(len(d_10G)) if d_10G[i][sh][bf]!=0]),0)\n",
      "    RMS_10G[sh][bf] =round(np.std ([d_10G[i][sh][bf] for i in range(len(d_10G)) if d_10G[i][sh][bf]!=0]),0)\n",
      "print \"mean_10G,RMS_10G:\"\n",
      "print mean_10G\n",
      "print RMS_10G "
     ],
     "language": "python",
     "metadata": {},
     "outputs": [
      {
       "output_type": "stream",
       "stream": "stdout",
       "text": [
        "mean_10G,RMS_10G:\n",
        "[[599.0, 434.0], [591.0, 443.0], [586.0, 512.0], [586.0, 575.0], [608.0, 613.0], [nan, nan]]\n",
        "[[16.0, 14.0], [16.0, 11.0], [0.0, 0.0], [1.0, 11.0], [0.0, 0.0], [nan, nan]]\n"
       ]
      }
     ],
     "prompt_number": 10
    },
    {
     "cell_type": "code",
     "collapsed": false,
     "input": [
      "#! 15G\n",
      "d_15G=[[[579,296],    [0,0],        [0,0],        [0,0],        [0,0],        [0,0]],\n",
      "       [[553,275],    [574,340],    [0,0],        [0,0],        [0,0],        [0,0]],\n",
      "       [[542,274],    [566,335],    [0,0],        [0,0],        [565,569],    [0,0]],\n",
      "       [[0,0],        [0,0],        [588,399],    [0,0],        [0,0],        [0,0]],\n",
      "       [[0,0],        [0,0],        [0,0],        [605,559],    [0,0],        [0,0]],\n",
      "       [[0,0],        [0,0],        [0,0],        [0,0],        [608,596],    [0,0]],\n",
      "       [[671,278],    [613,240],    [0,0],        [0,0],        [0,0],        [0,0]],\n",
      "       [[0,0],        [0,0],        [0,0],        [576,527],    [577,571],    [578,582]],\n",
      "       [[0,0],        [0,0],        [0,0],        [0,534],      [0,571],      [0,575]]]\n",
      "mean_15G=[[0 for j in [T,A]] for i in [cmN,cm0,cm1,cm2,cm3,cm4]]\n",
      "RMS_15G =[[0 for j in [T,A]] for i in [cmN,cm0,cm1,cm2,cm3,cm4]]\n",
      "#print mean_5G\n",
      "for item in itertools.product([cmN,cm0,cm1,cm2,cm3,cm4],[T,A]):\n",
      "    sh,bf=item[0],item[1]\n",
      "    #print sh,bf\n",
      "    mean_15G[sh][bf]=round(np.mean([d_15G[i][sh][bf] for i in range(len(d_15G)) if d_15G[i][sh][bf]!=0]),0)\n",
      "    RMS_15G[sh][bf] =round(np.std ([d_15G[i][sh][bf] for i in range(len(d_15G)) if d_15G[i][sh][bf]!=0]),0)\n",
      "print \"mean_15G,RMS_15G:\"\n",
      "print mean_15G\n",
      "print RMS_15G \n",
      "                                  "
     ],
     "language": "python",
     "metadata": {},
     "outputs": [
      {
       "output_type": "stream",
       "stream": "stdout",
       "text": [
        "mean_15G,RMS_15G:\n",
        "[[586.0, 281.0], [584.0, 305.0], [588.0, 399.0], [591.0, 540.0], [583.0, 577.0], [578.0, 579.0]]\n",
        "[[51.0, 9.0], [21.0, 46.0], [0.0, 0.0], [15.0, 14.0], [18.0, 11.0], [0.0, 4.0]]\n"
       ]
      }
     ],
     "prompt_number": 11
    },
    {
     "cell_type": "code",
     "collapsed": false,
     "input": [
      "#! 20G\n",
      "d_20G=[[[567,228],    [0,0],        [0,0],        [0,0],        [0,0],        [0,0]],\n",
      "       [[543,211],    [576,233],    [0,0],        [0,0],        [0,0],        [0,0]],\n",
      "       [[492,209],    [550,239],    [0,0],        [0,0],        [547,546],    [0,0]],\n",
      "       [[0,0],        [0,0],        [591,253],    [0,0],        [0,0],        [0,0]],\n",
      "       [[0,0],        [0,0],        [0,0],        [578,491],    [0,0],        [0,0]],\n",
      "       [[0,0],        [0,0],        [0,0],        [0,0],        [622,600],    [0,0]],\n",
      "       [[471,187],    [564,178],    [0,0],        [0,0],        [0,0],        [0,0]],\n",
      "       [[0,0],        [0,0],        [0,0],        [575,488],    [579,569],    [575,585]],\n",
      "       [[0,0],        [0,0],        [0,0],        [0,0],        [0,561],      [0,578]]]\n",
      "mean_20G=[[0 for j in [T,A]] for i in [cmN,cm0,cm1,cm2,cm3,cm4]]\n",
      "RMS_20G =[[0 for j in [T,A]] for i in [cmN,cm0,cm1,cm2,cm3,cm4]]\n",
      "#print mean_5G\n",
      "for item in itertools.product([cmN,cm0,cm1,cm2,cm3,cm4],[T,A]):\n",
      "    sh,bf=item[0],item[1]\n",
      "    #print sh,bf\n",
      "    mean_20G[sh][bf]=round(np.mean([d_20G[i][sh][bf] for i in range(len(d_20G)) if d_20G[i][sh][bf]!=0]),0)\n",
      "    RMS_20G[sh][bf] =round(np.std ([d_20G[i][sh][bf] for i in range(len(d_20G)) if d_20G[i][sh][bf]!=0]),0)\n",
      "print \"mean_20G,RMS_20G:\"\n",
      "print mean_20G\n",
      "print RMS_20G "
     ],
     "language": "python",
     "metadata": {},
     "outputs": [
      {
       "output_type": "stream",
       "stream": "stdout",
       "text": [
        "mean_20G,RMS_20G:\n",
        "[[518.0, 209.0], [563.0, 217.0], [591.0, 253.0], [577.0, 490.0], [583.0, 569.0], [575.0, 582.0]]\n",
        "[[38.0, 15.0], [11.0, 27.0], [0.0, 0.0], [2.0, 2.0], [31.0, 20.0], [0.0, 4.0]]\n"
       ]
      }
     ],
     "prompt_number": 12
    },
    {
     "cell_type": "code",
     "collapsed": false,
     "input": [
      "#! 25G\n",
      "d_25G=[[[294,166],[570,185],[0,0],    [0,0],    [608,507],  [0,0]],\n",
      "       [[0,0],    [0,0],    [586,207],[0,0],    [0,0],      [0,0]],\n",
      "       [[0,0],    [0,0],    [0,0],    [590,438],[0,0],      [0,0]],\n",
      "       [[0,0],    [0,0],    [0,0],    [0,0],    [0,0],      [0,0]],\n",
      "       [[0,0],    [0,0],    [0,0],    [0,0],    [619,678],  [0,0]],\n",
      "       [[0,0],    [0,0],    [0,0],    [0,0],    [0,0],      [0,0]],\n",
      "       [[0,0],    [0,0],    [0,0],    [571,454],[570,554],  [571,572]],\n",
      "       [[0,0],    [0,0],    [0,0],    [0,0],    [0,551],    [0,572]]]\n",
      "mean_25G=[[0 for j in [T,A]] for i in [cmN,cm0,cm1,cm2,cm3,cm4]]\n",
      "RMS_25G =[[0 for j in [T,A]] for i in [cmN,cm0,cm1,cm2,cm3,cm4]]\n",
      "#print mean_5G\n",
      "for item in itertools.product([cmN,cm0,cm1,cm2,cm3,cm4],[T,A]):\n",
      "    sh,bf=item[0],item[1]\n",
      "    #print sh,bf\n",
      "    mean_25G[sh][bf]=round(np.mean([d_25G[i][sh][bf] for i in range(len(d_25G)) if d_25G[i][sh][bf]!=0]),0)\n",
      "    RMS_25G[sh][bf] =round(np.std ([d_25G[i][sh][bf] for i in range(len(d_25G)) if d_25G[i][sh][bf]!=0]),0)\n",
      "print \"mean_25G,RMS_25G:\"\n",
      "print mean_25G\n",
      "print RMS_25G "
     ],
     "language": "python",
     "metadata": {},
     "outputs": [
      {
       "output_type": "stream",
       "stream": "stdout",
       "text": [
        "mean_25G,RMS_25G:\n",
        "[[294.0, 166.0], [570.0, 185.0], [586.0, 207.0], [581.0, 446.0], [599.0, 573.0], [571.0, 572.0]]\n",
        "[[0.0, 0.0], [0.0, 0.0], [0.0, 0.0], [10.0, 8.0], [21.0, 64.0], [0.0, 0.0]]\n"
       ]
      }
     ],
     "prompt_number": 13
    },
    {
     "cell_type": "code",
     "collapsed": false,
     "input": [
      "#! 30G\n",
      "d_30G=[[[76,123], [0,0],    [0,0],    [0,0],    [0,0],    [0,0]],\n",
      "       [[0,0],    [0,0],    [606,153],[0,0],    [0,0],    [0,0]],\n",
      "       [[0,0],    [0,0],    [0,0],    [602,390],[0,0],    [0,0]],\n",
      "       [[0,0],    [0,0],    [0,0],    [0,0],    [611,541],[0,0]],\n",
      "       [[0,0],    [0,0],    [0,0],    [0,0],    [0,505],  [0,569]],\n",
      "       [[0,0],    [0,0],    [0,0],    [0,0],    [0,533],  [0,561]]]       \n",
      "mean_30G=[[0 for j in [T,A]] for i in [cmN,cm0,cm1,cm2,cm3,cm4]]\n",
      "RMS_30G =[[0 for j in [T,A]] for i in [cmN,cm0,cm1,cm2,cm3,cm4]]\n",
      "#print mean_5G\n",
      "for item in itertools.product([cmN,cm0,cm1,cm2,cm3,cm4],[T,A]):\n",
      "    sh,bf=item[0],item[1]\n",
      "    #print sh,bf\n",
      "    mean_30G[sh][bf]=round(np.mean([d_30G[i][sh][bf] for i in range(len(d_30G)) if d_30G[i][sh][bf]!=0]),0)\n",
      "    RMS_30G[sh][bf] =round(np.std ([d_30G[i][sh][bf] for i in range(len(d_30G)) if d_30G[i][sh][bf]!=0]),0)\n",
      "print \"mean_30G,RMS_30G:\"\n",
      "print mean_30G\n",
      "print RMS_30G "
     ],
     "language": "python",
     "metadata": {},
     "outputs": [
      {
       "output_type": "stream",
       "stream": "stdout",
       "text": [
        "mean_30G,RMS_30G:\n",
        "[[76.0, 123.0], [nan, nan], [606.0, 153.0], [602.0, 390.0], [611.0, 526.0], [nan, 565.0]]\n",
        "[[0.0, 0.0], [nan, nan], [0.0, 0.0], [0.0, 0.0], [0.0, 15.0], [nan, 4.0]]\n"
       ]
      }
     ],
     "prompt_number": 14
    },
    {
     "cell_type": "code",
     "collapsed": false,
     "input": [],
     "language": "python",
     "metadata": {},
     "outputs": []
    }
   ],
   "metadata": {}
  }
 ]
}