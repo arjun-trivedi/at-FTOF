{
 "metadata": {
  "name": ""
 },
 "nbformat": 3,
 "nbformat_minor": 0,
 "worksheets": [
  {
   "cells": [
    {
     "cell_type": "code",
     "collapsed": false,
     "input": [
      "'''\n",
      "+ Generate ADC values based on Gaussian Random Number Generator\n",
      "+ Will be used to generate values of for spaces in tables that are empty\n",
      "+ Will use RMS=20 calculated in Avrg-RMS-For-PMT-ADC-sgnl-B-Field-Test\n",
      "'''"
     ],
     "language": "python",
     "metadata": {},
     "outputs": []
    }
   ],
   "metadata": {}
  }
 ]
}