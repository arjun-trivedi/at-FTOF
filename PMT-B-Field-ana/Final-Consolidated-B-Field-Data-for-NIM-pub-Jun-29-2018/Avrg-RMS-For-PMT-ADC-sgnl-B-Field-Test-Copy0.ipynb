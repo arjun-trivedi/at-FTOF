{
 "metadata": {
  "name": ""
 },
 "nbformat": 3,
 "nbformat_minor": 0,
 "worksheets": [
  {
   "cells": [
    {
     "cell_type": "code",
     "collapsed": false,
     "input": [
      "'''\n",
      "+ Compute average ADC RMS using RMS computed for each {X Gauss}*{T,A}*{shielding}*{measurements} \n",
      "in PMT-B-Field-Effect-Data-Consolidated-From-PMT-Lab-Notebook.ipynb\n",
      "    + Note that it is from PMT-B-Field-Effect-Data-Consolidated-From-PMT-Lab-Notebook.ipynb that data is entered in\n",
      "    Table 5. of $WORKSPACE/at-FTOF/PMT-B-Field-ana/Final-Consolidated-B-Field-Data-for-NIM-pub-Jun-29-2018/FTOF-PMT.pdf\n",
      "    + This PDF is also there in Gmail:FTOF:FTOF PMT document\n",
      "+ Note that it is assumed that each RMS reading used in the average has the same weight (which is not true, but assumed\n",
      "give a ~true estimate)\n",
      "+ This average RMS will be instead because some of the {X Gauss}*{T,A}*{shielding}*{measurements}\n",
      "have just one measurement, and therefore no RMS can be determined.\n",
      "+ This will also improve the estimate of the RMS.\n",
      "+ This better estimated RMS can then be used to better estimate values where this Table 5. has no data\n",
      "+ This filled out Table 5 will then be used in the final publication\n",
      "'''\n",
      "from __future__ import division\n",
      "import itertools\n",
      "cmN,cm0,cm1,cm2,cm3,cm4=range(6)\n",
      "T,A=range(2)"
     ],
     "language": "python",
     "metadata": {},
     "outputs": [],
     "prompt_number": 36
    },
    {
     "cell_type": "code",
     "collapsed": false,
     "input": [
      "#! d_0G=d_0G+d_0G_in_btwn_rdngs\n",
      "d_0G=[602,614,572,559,576,613,607,620,605,600,594,593,584,589,586,582,582,587,583,\n",
      "      565,593,611,594,587,581,581,577,577,570,573,572,569,573,580,582,575,576,576,568,574,573,574,572,573,577]\n",
      "mean_0G=583"
     ],
     "language": "python",
     "metadata": {},
     "outputs": [],
     "prompt_number": 37
    },
    {
     "cell_type": "code",
     "collapsed": false,
     "input": [
      "rms=sum([(mean_0G-x)**2 for x in d_0G]+[(mean_0G-x)**2 for x in d_0G])\n",
      "rms=round(sqrt(rms/(len(d_0G)+len(d_0G))),0)\n",
      "rms"
     ],
     "language": "python",
     "metadata": {},
     "outputs": [
      {
       "metadata": {},
       "output_type": "pyout",
       "prompt_number": 38,
       "text": [
        "14.0"
       ]
      }
     ],
     "prompt_number": 38
    },
    {
     "cell_type": "code",
     "collapsed": false,
     "input": [
      "'''\n",
      "Format of data structures used below. For full details see PMT-B-Field-Effect-Data-Consolidated-From-PMT-Lab-Notebook\n",
      "\n",
      "+d_XG={measurments}*{sheilding level}*{T,A}\n",
      "    + Explicit format:\n",
      "    d_XG=[[T_NOcm,A_NOcm],[T_0cm,A_0cm],[T_1cm,A_1cm],[T_2cm,A_2cm],[T_3cm,A_3cm],[T_4cm,A_4cm],\n",
      "            .\n",
      "            .\n",
      "            .\n",
      "          [T_NOcm,A_NOcm],[T_0cm,A_0cm],[T_1cm,A_1cm],[T_2cm,A_2cm],[T_3cm,A_3cm],[T_4cm,A_4cm]]\n",
      "          \n",
      "+ mean_XG=[[cmN-T,cmN-A],..,[cm4-T,cm4-A]] (calculated from d_XG in PMT-B-Field-Effect-Data-Consolidated-From-PMT-Lab-Notebook)\n",
      "'''"
     ],
     "language": "python",
     "metadata": {},
     "outputs": []
    },
    {
     "cell_type": "code",
     "collapsed": false,
     "input": [
      "#! mean_5G\n",
      "mean_5G=[[601.0, 569.0], [580.0, 551.0], [604.0, 581.0], [590.0, 588.0], [598.0, 589.0], [nan, nan]]\n",
      "#! d_5G \n",
      "d_5G=[[[600,569],[0,0],    [0,0],    [0,0],    [0,0],     [0,0]],\n",
      "      [[625,595],[0,0],    [0,0],    [0,0],    [0,0],     [0,0]],\n",
      "      [[563,534],[559,550],[0,0],    [0,0],    [0,0],     [0,0]],\n",
      "      [[0,0],    [0,0],    [0,0],    [0,0],    [584,588], [0,0]],\n",
      "      [[0,0],    [0,0],    [604,581],[0,0],    [0,0],     [0,0]],\n",
      "      [[0,0],    [0,0],    [0,0],    [590,588],[0,0],     [0,0]],\n",
      "      [[0,0],    [0,0],    [0,0],    [0,0],    [612,590], [0,0]],\n",
      "      [[614,577],[601,552],[0,0],    [0,0],    [0,0],     [0,0]]]\n",
      "sum_sqrd_diff_5G=[[0 for j in [T,A]] for i in [cmN,cm0,cm1,cm2,cm3,cm4]]\n",
      "N_5G=[[0 for j in [T,A]] for i in [cmN,cm0,cm1,cm2,cm3,cm4]]\n",
      "#print mean_5G\n",
      "tot_sum_sqrd_diff_5G=0\n",
      "tot_N_5G=0\n",
      "for item in itertools.product([cmN,cm0,cm1,cm2,cm3,cm4],[T,A]):\n",
      "    sh,bf=item[0],item[1]\n",
      "    #print sh,bf\n",
      "    sum_sqrd_diff_5G[sh][bf]=sum([(mean_5G[sh][bf]-d_5G[i][sh][bf])**2 for i in range(len(d_5G)) if d_5G[i][sh][bf]!=0 and mean_5G[sh][bf]!=nan])\n",
      "    N_5G[sh][bf]=len([(mean_5G[sh][bf]-d_5G[i][sh][bf])**2 for i in range(len(d_5G)) if d_5G[i][sh][bf]!=0 and mean_5G[sh][bf]!=nan])\n",
      "    tot_sum_sqrd_diff_5G+=sum_sqrd_diff_5G[sh][bf]\n",
      "    tot_N_5G+=N_5G[sh][bf]\n",
      "RMS_5G=round(sqrt(tot_sum_sqrd_diff_5G/tot_N_5G),0)\n",
      "print RMS_5G"
     ],
     "language": "python",
     "metadata": {},
     "outputs": [
      {
       "output_type": "stream",
       "stream": "stdout",
       "text": [
        "16.0\n"
       ]
      }
     ],
     "prompt_number": 40
    },
    {
     "cell_type": "code",
     "collapsed": false,
     "input": [],
     "language": "python",
     "metadata": {},
     "outputs": []
    }
   ],
   "metadata": {}
  }
 ]
}